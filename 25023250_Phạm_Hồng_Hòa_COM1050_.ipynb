{
  "nbformat": 4,
  "nbformat_minor": 0,
  "metadata": {
    "colab": {
      "provenance": []
    },
    "kernelspec": {
      "name": "python3",
      "display_name": "Python 3"
    },
    "language_info": {
      "name": "python"
    }
  },
  "cells": [
    {
      "cell_type": "code",
      "source": [
        "#W3A2\n",
        "a,b=map(int,input().split(','))\n",
        "print(f\"giá trị ban đầu của a:{a} ; b:{b}\")\n",
        "a=a^b\n",
        "b=a^b\n",
        "a=a^b\n",
        "print(f\"giá trị sau khi hoán đổi của a:{a} ; b:{b}\")"
      ],
      "metadata": {
        "colab": {
          "base_uri": "https://localhost:8080/"
        },
        "id": "5LDYyMpXsHKn",
        "outputId": "b7719af8-0507-4737-d622-86e04dd7e988"
      },
      "execution_count": 29,
      "outputs": [
        {
          "output_type": "stream",
          "name": "stdout",
          "text": [
            "5,7\n",
            "giá trị ban đầu của a:5 ; b:7\n",
            "giá trị sau khi hoán đổi của a:7 ; b:5\n"
          ]
        }
      ]
    },
    {
      "cell_type": "code",
      "execution_count": 8,
      "metadata": {
        "colab": {
          "base_uri": "https://localhost:8080/"
        },
        "id": "eskfuJUWkAT7",
        "outputId": "1c43c3ba-1a02-41c4-abaa-7e6e41eaf7ab"
      },
      "outputs": [
        {
          "output_type": "stream",
          "name": "stdout",
          "text": [
            "Nhập m: 9\n",
            "Nhập n: 2\n",
            "Kết quả làm tròn xuống: 4\n"
          ]
        }
      ],
      "source": [
        "#W3A4\n",
        "import math\n",
        "m = float(input(\"Nhập m: \"))\n",
        "n = float(input(\"Nhập n: \"))\n",
        "if n != 0:\n",
        "    kq = math.floor(m / n)\n",
        "    print(\"Kết quả làm tròn xuống:\", kq)"
      ]
    },
    {
      "cell_type": "code",
      "source": [
        "#W3A5\n",
        "import math\n",
        "m=float(input(\"Nhập m: \"))\n",
        "n=float(input(\"Nhập n: \"))\n",
        "if n!=0:\n",
        "    kq=math.ceil(m/n)\n",
        "    print(\"Kết quả làm tròn lên:\",kq)"
      ],
      "metadata": {
        "colab": {
          "base_uri": "https://localhost:8080/"
        },
        "id": "BIinKHsgmoUm",
        "outputId": "eaf43b62-3d07-49b0-cdb2-b1cab1f725da"
      },
      "execution_count": 10,
      "outputs": [
        {
          "output_type": "stream",
          "name": "stdout",
          "text": [
            "Nhập m: 9\n",
            "Nhập n: 2\n",
            "Kết quả làm tròn lên: 5\n"
          ]
        }
      ]
    },
    {
      "cell_type": "code",
      "source": [
        "#W3A6\n",
        "a=int(input(\"nhập vào số nguyên dương x\"))\n",
        "if a%2==0:\n",
        "    print(\"even\")\n",
        "else:\n",
        "    print(\"odd\")"
      ],
      "metadata": {
        "colab": {
          "base_uri": "https://localhost:8080/"
        },
        "id": "yQErjrnKnwpG",
        "outputId": "23ddb314-83cd-4841-e2a4-3abdeaf88f1e"
      },
      "execution_count": 11,
      "outputs": [
        {
          "output_type": "stream",
          "name": "stdout",
          "text": [
            "nhập vào số nguyên dương x3\n",
            "odd\n"
          ]
        }
      ]
    },
    {
      "cell_type": "code",
      "source": [
        "#W3A7\n",
        "a=int(input(\"nhập số a:\"))\n",
        "b=int(input(\"nhập số b:\"))\n",
        "if a < 0 and b < 0:\n",
        "  print(\"yes\")\n",
        "else:\n",
        "  print(\"no\")"
      ],
      "metadata": {
        "colab": {
          "base_uri": "https://localhost:8080/"
        },
        "id": "iod8U_1ToROe",
        "outputId": "ee8f4143-a748-45cc-a20c-a933eab7b527"
      },
      "execution_count": 15,
      "outputs": [
        {
          "output_type": "stream",
          "name": "stdout",
          "text": [
            "nhập số a:3\n",
            "nhập số b:-4\n",
            "no\n"
          ]
        }
      ]
    },
    {
      "cell_type": "code",
      "source": [
        "#W3A8\n",
        "a = input(\"Nhập vào một chuỗi chữ cái a: \")\n",
        "b = input(\"Nhập vào một chuỗi chữ cái b: \")\n",
        "if len(a) > len(b):\n",
        "    print(\"true\")\n",
        "else:\n",
        "    print(\"false\")"
      ],
      "metadata": {
        "colab": {
          "base_uri": "https://localhost:8080/"
        },
        "id": "of4brATipOjZ",
        "outputId": "f157e53b-fc0d-455e-c363-6c88b96c0fca"
      },
      "execution_count": 24,
      "outputs": [
        {
          "output_type": "stream",
          "name": "stdout",
          "text": [
            "Nhập vào một chuỗi chữ cái a: hòa \n",
            "Nhập vào một chuỗi chữ cái b: hay hát \n",
            "false\n"
          ]
        }
      ]
    },
    {
      "cell_type": "code",
      "source": [
        "#W3A9\n",
        "a=int(input(\"nhập số a bất kì:\"))\n",
        "b=int(input(\"nhập số b bất kì:\"))\n",
        "c=int(input(\"nhập số c bất kì:\"))\n",
        "if a+b>c and a+c>b and b+c>a:\n",
        "    print(\"yes\")\n",
        "else:\n",
        "    print(\"no\")"
      ],
      "metadata": {
        "colab": {
          "base_uri": "https://localhost:8080/"
        },
        "id": "wajl2EfqqdYI",
        "outputId": "da780ec8-515e-475a-fd5d-77209dba102b"
      },
      "execution_count": 26,
      "outputs": [
        {
          "output_type": "stream",
          "name": "stdout",
          "text": [
            "nhập số a bất kì:3\n",
            "nhập số b bất kì:4\n",
            "nhập số c bất kì:5\n",
            "yes\n"
          ]
        }
      ]
    },
    {
      "cell_type": "code",
      "source": [
        "#W3A10\n",
        "a,b,c,d=map(int,input(\"Nhập 4 số nguyên dương : \").split(','))\n",
        "\n",
        "\n",
        "max_num = a\n",
        "\n",
        "if b > max_num:\n",
        "    max_num = b\n",
        "if c > max_num:\n",
        "    max_num = c\n",
        "if d > max_num:\n",
        "    max_num = d\n",
        "\n",
        "print(\"Số lớn nhất là:\", max_num)"
      ],
      "metadata": {
        "colab": {
          "base_uri": "https://localhost:8080/"
        },
        "id": "rd9godvsuQpp",
        "outputId": "50b486a3-ce8c-4966-967f-14c647a43344"
      },
      "execution_count": 33,
      "outputs": [
        {
          "output_type": "stream",
          "name": "stdout",
          "text": [
            "Nhập 4 số nguyên dương : 1,5,7,8\n",
            "Số lớn nhất là: 8\n"
          ]
        }
      ]
    },
    {
      "cell_type": "code",
      "source": [
        "#W3A11\n",
        "a = float(input(\"Nhập cạnh a: \"))\n",
        "b = float(input(\"Nhập cạnh b: \"))\n",
        "c = float(input(\"Nhập cạnh c: \"))\n",
        "if a + b > c and a + c > b and b + c > a:\n",
        "    if a == b == c:\n",
        "        print(\"Tam giác đều\")\n",
        "    elif a == b or a == c or b == c:\n",
        "        print(\"Tam giác cân\")\n",
        "    else:\n",
        "        print(\"Tam giác thường\")\n",
        "else:\n",
        "    print(\"Không phải tam giác\")\n"
      ],
      "metadata": {
        "colab": {
          "base_uri": "https://localhost:8080/"
        },
        "id": "2aGRbiz64QyA",
        "outputId": "ac0c5ee4-fab6-4238-cc9b-ce1ea0c337f9"
      },
      "execution_count": 47,
      "outputs": [
        {
          "output_type": "stream",
          "name": "stdout",
          "text": [
            "Nhập cạnh a: 3\n",
            "Nhập cạnh b: 3\n",
            "Nhập cạnh c: 3\n",
            "Tam giác đều\n"
          ]
        }
      ]
    },
    {
      "cell_type": "code",
      "source": [
        "#W3A12\n",
        "year = int(input(\"nhập năm:\"))\n",
        "if year % 400 == 0:\n",
        "  print(\"năm nhuận\")\n",
        "elif year % 400 == 0 :\n",
        "  print(\"không nhuận\")\n",
        "elif year % 4 == 0 and year % 100 != 0:\n",
        "  print(\"năm nhuận\")\n",
        "else:\n",
        "  print(\"không nhuận\")"
      ],
      "metadata": {
        "colab": {
          "base_uri": "https://localhost:8080/"
        },
        "id": "4avu9281ww4M",
        "outputId": "c78336c4-2f03-4ed5-b036-0f97b5cfc3c6"
      },
      "execution_count": 36,
      "outputs": [
        {
          "output_type": "stream",
          "name": "stdout",
          "text": [
            "nhập năm:1508\n",
            "năm nhuận\n"
          ]
        }
      ]
    },
    {
      "cell_type": "code",
      "source": [
        "#W3A14\n",
        "a = float(input(\"Nhập a: \"))\n",
        "b = float(input(\"Nhập b: \"))\n",
        "\n",
        "if a == 0:\n",
        "    if b == 0:\n",
        "        print(\"Phương trình có vô số nghiệm\")\n",
        "    else:\n",
        "        print(\"Phương trình vô nghiệm\")\n",
        "else:\n",
        "    x = -b / a\n",
        "    print(\"Nghiệm của phương trình là:\", round(x,2))"
      ],
      "metadata": {
        "colab": {
          "base_uri": "https://localhost:8080/"
        },
        "id": "QwT_Drji2VsX",
        "outputId": "10b862c6-9818-4225-d560-94efad7e460c"
      },
      "execution_count": 42,
      "outputs": [
        {
          "output_type": "stream",
          "name": "stdout",
          "text": [
            "Nhập a: 5\n",
            "Nhập b: 9\n",
            "Nghiệm của phương trình là: -1.8\n"
          ]
        }
      ]
    },
    {
      "cell_type": "code",
      "source": [
        "#W3A15\n",
        "a=int(input(\"nhập số a:\"))\n",
        "if a>=8:\n",
        "   print(\"học lực giỏi\")\n",
        "elif 6.5<=a<8:\n",
        "   print(\"học lực khá \")\n",
        "elif 5<=a<6.5:\n",
        "   print(\"học lực trung bình \")\n",
        "else:\n",
        "   print(\"học lực yếu \")"
      ],
      "metadata": {
        "colab": {
          "base_uri": "https://localhost:8080/"
        },
        "id": "aZsTpD2d1HfW",
        "outputId": "7229bdd8-2927-4faa-ad22-a7b8494cb1f1"
      },
      "execution_count": 40,
      "outputs": [
        {
          "output_type": "stream",
          "name": "stdout",
          "text": [
            "nhập số a:6\n",
            "học lực trung bình \n"
          ]
        }
      ]
    },
    {
      "cell_type": "code",
      "source": [
        "#W3A16\n",
        "a = float(input(\"Nhap so thuc: \"))\n",
        "\n",
        "b = int(a)\n",
        "c = int(a) if int(a) == a else int(a)+1\n",
        "\n",
        "if abs(a-b) < abs(a-c):\n",
        "    d = b\n",
        "else:\n",
        "    d = c\n",
        "\n",
        "print(f\"{b} {c} {d}\")"
      ],
      "metadata": {
        "id": "KhrEEa4P5rY6"
      },
      "execution_count": null,
      "outputs": []
    },
    {
      "cell_type": "code",
      "source": [
        "#W3A17\n",
        "a,b,c,d = map(int, input().split())\n",
        "\n",
        "i = b/a\n",
        "if c==b*i and d == c*i:\n",
        "    print(\"La cap so nhan\")\n",
        "else:\n",
        "    print(\"Khong la cap so nhan\")"
      ],
      "metadata": {
        "id": "jxt3VozX5y2B"
      },
      "execution_count": null,
      "outputs": []
    }
  ]
}